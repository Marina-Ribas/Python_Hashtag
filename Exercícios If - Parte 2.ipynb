{
 "cells": [
  {
   "cell_type": "markdown",
   "metadata": {},
   "source": [
    "# Exercícios"
   ]
  },
  {
   "cell_type": "markdown",
   "metadata": {},
   "source": [
    "## 1. Criando um mini sistema de controle de estoque\n",
    "\n",
    "- Crie um sistema para ser usado pelo time de controle de estoque de um centro de distribuição.\n",
    "- Imagine que ao fim de todo dia, o time conta quantas unidades de produto existem no estoque. Se tivermos um estoque abaixo do estoque permitido para aquela categoria do produto, o time deve ser avisado (print) para fazer um novo pedido daquele produto.\n",
    "- Cada categoria de produto tem um estoque mínimo diferente, segundo a regra abaixo:\n",
    "\n",
    "- alimentos -> Estoque mínimo: 50\n",
    "- bebidas -> Estoque mínimo: 75\n",
    "- limpeza -> Estoque mínimo: 30\n",
    "\n",
    "Para isso vamos criar um programa que pede 3 inputs do usuário: nome do produto, categoria e quantidade atual em estoque.\n",
    "\n",
    "Se o produto tiver abaixo do estoque mínimo da categoria dele, o programa deve printar a mensagem \"Solicitar {produto} à equipe de compras, temos apenas {unidades} em estoque\"\n",
    "\n",
    "Exemplo: Se o usuário preenche os inputs com: bebidas, dolly, 90, o programa não deve exibir nenhuma mensagem.<br>\n",
    "Agora, se o usuário preenche os inputs com: bebidas, guaraná, 60, o programa deve exibir a mensagem \"Solicitar guaraná à equipe de compras, temos apenas 60 unidades em estoque.\n",
    "\n",
    "Obs: lembre de usar o int() para transformar o número inserido pelo usuário no input de string para int.<br>\n",
    "Obs2: Caso o usuário não preencha alguma das 3 informações, o programa deve exibir uma mensagem para avisá-lo de preencher corretamente."
   ]
  },
  {
   "cell_type": "code",
   "execution_count": null,
   "metadata": {},
   "outputs": [
    {
     "name": "stdout",
     "output_type": "stream",
     "text": [
      "Solicitar ALMONDEGA à equipe de compras, temos apenas 30 unidades em estoque.\n"
     ]
    }
   ],
   "source": [
    "alimentosMin = 50\n",
    "bebidasMin = 75\n",
    "limpezaMin = 30\n",
    "\n",
    "while True:\n",
    "    produto = input(\"Digite o nome do produto:\").strip().upper()\n",
    "    if produto == \"\":\n",
    "        print(\"Digite corretamente o nome do produto\")\n",
    "    else:\n",
    "        break\n",
    "while True:\n",
    "    categoria = input(\"Digite a categoria do produto: (ALIMENTO, BEBIDA OU LIMPEZA)\").strip().upper() \n",
    "    if categoria  not in [\"ALIMENTO\" , \"BEBIDA\" , \"LIMPEZA\"]:\n",
    "        print(\"Por gentileza digite corretamente a categoria:\")\n",
    "    else:\n",
    "        break\n",
    "\n",
    "while True:\n",
    "    estoque = int(input(\"Digite a quantidade atual do estoque: \")).strip()\n",
    "    if estoque == \"\":\n",
    "        print(\"Digite corretamente a quantidade atual do estoque:\")\n",
    "    else:\n",
    "        break\n",
    "\n",
    "if categoria == \"ALIMENTO\": \n",
    "    if estoque < alimentosMin:\n",
    "        print(f\"Solicitar {produto} à equipe de compras, temos apenas {estoque} unidades em estoque.\") \n",
    "elif categoria == \"BEBIDA\": \n",
    "    if estoque < bebidasMin:\n",
    "        print(f\"Solicitar {produto} à equipe de compras, temos apenas {estoque} unidades em estoque.\") \n",
    "elif categoria == \"LIMPEZA\":\n",
    "    if estoque < limpezaMin:\n",
    "        print(f\"Solicitar {produto} à equipe de compras, temos apenas {estoque} unidades em estoque.\") \n",
    "    \n",
    "\n"
   ]
  }
 ],
 "metadata": {
  "kernelspec": {
   "display_name": "Python 3",
   "language": "python",
   "name": "python3"
  },
  "language_info": {
   "codemirror_mode": {
    "name": "ipython",
    "version": 3
   },
   "file_extension": ".py",
   "mimetype": "text/x-python",
   "name": "python",
   "nbconvert_exporter": "python",
   "pygments_lexer": "ipython3",
   "version": "3.12.2"
  }
 },
 "nbformat": 4,
 "nbformat_minor": 4
}
